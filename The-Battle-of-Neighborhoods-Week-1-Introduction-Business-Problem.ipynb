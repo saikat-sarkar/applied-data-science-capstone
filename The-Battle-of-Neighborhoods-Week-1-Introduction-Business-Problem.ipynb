{
  "cells": [
    {
      "metadata": {
        "collapsed": true
      },
      "cell_type": "markdown",
      "source": "# Capstone Project - The Battle of Neighbourhood's (Part-1)"
    },
    {
      "metadata": {},
      "cell_type": "markdown",
      "source": "## Introduction:"
    },
    {
      "metadata": {},
      "cell_type": "markdown",
      "source": "New York City's demographics show that it is a large and ethnically diverse metropolis. It is the largest city in the United States with a long history of international immigration. New York City was home to nearly 8.5 million people in 2014, accounting for over 40% of the population of New York State and a slightly lower percentage of the New York metropolitan area, home to approximately 23.6 million. Over the last decade the city has been growing faster than the region. The New York region continues to be by far the leading metropolitan gateway for legal immigrants admitted into the United States.\n\nNew York City has also been a major point of entry for immigrants; the term \"melting pot\" was coined to describe densely populated immigrant neighbourhoods on the Lower East Side. As many as 800 languages are spoken in New York, making it the most linguistically diverse city in the world. English remains the most widely spoken language, although there are areas in the outer boroughs in which up to 25% of people speak English as an alternate language, and/or have limited or no English language fluency. English is least spoken in neighbourhoods such as Flushing, Sunset Park, and Corona.\n\nWith its diverse culture, comes diverse food items. There are many restaurants in New York City, each belonging to different categories like Chinese, Indian, and French etc."
    },
    {
      "metadata": {},
      "cell_type": "markdown",
      "source": "## Problem:"
    },
    {
      "metadata": {},
      "cell_type": "markdown",
      "source": "To find the answers to the following questions:\nQ1) List and visualize all major parts of New York City that has great Indian restaurants. Q2) what is best location in New York City for Indian Cuisine?\nQ3) which areas have potential Indian Restaurant Market? Q4) which all areas lack Indian Restaurants?\nQ5) which is the best place to stay if you prefer Indian Cuisine?\n"
    }
  ],
  "metadata": {
    "kernelspec": {
      "name": "python36",
      "display_name": "Python 3.6",
      "language": "python"
    },
    "language_info": {
      "mimetype": "text/x-python",
      "nbconvert_exporter": "python",
      "name": "python",
      "pygments_lexer": "ipython3",
      "version": "3.6.6",
      "file_extension": ".py",
      "codemirror_mode": {
        "version": 3,
        "name": "ipython"
      }
    }
  },
  "nbformat": 4,
  "nbformat_minor": 2
}