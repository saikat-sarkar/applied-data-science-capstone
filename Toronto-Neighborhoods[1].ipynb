<!DOCTYPE html>
<html ng-app="notebooks">
<head>
    <meta charset="utf-8" />
    <script src="https://www.google.com/recaptcha/api.js" async defer></script> <!-- Must be dynamic dependency.-->
    <meta name="google-site-verification" content="KbU3iN0xNAize9fZKStaAxmv3zSQKNGPNA8wBibCrZk" />
    <meta name="google-site-verification" content="odGuUtT2NIcDQrKKLShBxd6RYuqFnizdyWffrkHlPzQ" />
    <meta name="msvalidate.01" content="1FB238D982DEC598F9B856044DEA2D2B" /> <!-- bing web master tools -->
    <meta name="viewport" content="width=device-width, initial-scale=1.0">
        <meta name="description" content="Provides free online access to Jupyter notebooks running in the cloud on Microsoft Azure.">
    <meta name="keywords" content="IPython Microsoft Azure Jupyter notebooks online Python machine learning scientific computing technical computing workbook share sharing collaboration R F# FSharp anaconda pandas matplotlib jupyterlab ubuntu tutorial plot markdown">
    <title ng-bind="$root.page_title">Microsoft Azure Notebooks - Online Jupyter Notebooks</title>

    <link href="/CSS/Site.less" rel="stylesheet"/>

    <link href="/bundles/vnext/dependencies_css?v=bgBz0km1Vdmd--lxVklGsYZbmfyhJRbBdc8VmAjvMIM1" rel="stylesheet"/>


    <script src="/bundles/vnext/dependencies?v=IHKPRKAJ83NqEOqfwTd4nXDYYwRiZO0a1klLljieNT01"></script>


    <script src="/bundles/vnext/aznb_js?v=xOc6LvjKgytY_Ogp5pMLFZDSXwuzyE0tlFKdhe9LfcQ1"></script>

    <script src="/bundles/vnext/aznb_html?v=5b0wuA6aYB1TILWnRYq8CMKyqOB91nWIgYdU8xFUqNs1"></script>


    <base href="/">
    <noscript></noscript>

    <!-- EU Cookie Consent initialization -->
            <script src="https://c.s-microsoft.com/mscc/statics/mscc-0.4.2.min.js"></script>
            <link rel="stylesheet" type="text/css" href="https://c.s-microsoft.com/mscc/statics/mscc-0.4.2.min.css">


    <!-- Global site tag (gtag.js) - Google Analytics -->
    <script async src="/Proprietary/gtag/gtag.js?id=UA-47764989-10"></script>
    <script>
        window.dataLayer = window.dataLayer || [];

        var initializeGA = () => {
            function gtag() { dataLayer.push(arguments); }
            gtag('js', new Date());
            gtag('config', 'UA-47764989-10');
        }

        if (typeof (mscc) === undefined || mscc.hasConsent()) {
            initializeGA();
        } else {
            mscc.on('consent', initializeGA);
        }
    </script>
</head>
<body ng-controller="SiteController as site" ng-class="{'body-survey-notification' : site.getDisplaySurvey(), 'tips-visible': !site.getIsHomePage() && site.tips.length > 0}">
    <script>

        window.getTokenHeaderValue = function () {
            return "zw3yUYRgyPGEGh_fZ5lLOQVIQA2eYHFFkzMKF72vAYDDVPXo4I4RJTm02rNkUa08qXA0OXXK9dV1_kV_97oUME4botU1:GPgvQUMZGwo5ipQYMF1NIHrWP9OvzrcalWp-OCEIDaD1loEBX0kAYxN032x0scfoN8TvJT0NMOIioBdim4L4mQxj-Xk1";
        };
    </script>

    <input name="__RequestVerificationToken" type="hidden" value="b1ucuQw2jcIqeReYcie6VB3ai69UdHC86Gp9fWZomv9lH9AjlohFu-8nYkAV_6Of2JOnpNH1mnfMMtZs3iWNvD493AA1" />

        <div class="eu-cookie-banner"><div id='msccBanner' dir='ltr' data-site-name='Azure Notebooks' data-mscc-version='0.4.2' data-nver='aspnet-3.1.1' data-sver='0.1.2' class='cc-banner' role='alert' aria-labelledby='msccMessage'><div class='cc-container'><svg class='cc-icon cc-v-center' x='0px' y='0px' viewBox='0 0 44 44' height='30px' fill='none' stroke='currentColor'><circle cx='22' cy='22' r='20' stroke-width='2'></circle><line x1='22' x2='22' y1='18' y2='33' stroke-width='3'></line><line x1='22' x2='22' y1='12' y2='15' stroke-width='3'></line></svg> <span id='msccMessage' class='cc-v-center cc-text' tabindex='0'>This site uses cookies for analytics, personalized content and ads. By continuing to browse this site, you agree to this use.</span> <a href='https://go.microsoft.com/fwlink/?linkid=845480' target='_top' aria-label='Learn more about Microsoft&#39;s Cookie Policy' id='msccLearnMore' class='cc-link cc-v-center cc-float-right' data-mscc-ic='false'>Learn more</a></div></div></div>

    <!-- BEGIN HEADER -->
<div class="header-container navbar-fixed-top">
    <div class="header" ng-class="{'fixed-width': site.getIsHomePage()}">
        <div class="brand-title">
            <a href="/#" class="logo" ms.pgarea="header" ms.cmpgrp="header" ms.cmptyp="link" ms.cmpnm="" ms.title="Microsoft Azure" ms.interactiontype="1" target="_self">
                <h1>
                    <b>Microsoft</b>
                    Azure Notebooks
                </h1>
            </a>
            <a href="/help/preview" class="preview" target="_self">Preview</a>

            <div class="desktop-navbar">
                <div class="navbar-fill">
                    <a href="/home/projects#" class="nav-item" ng-href="{{site.getUserHomeLink()}}/projects#" title="My Projects" target="{{ site.isInRunningNotebook ? '_blank' : '_self'}}">My Projects</a>
                    <a ng-href="{{site.contextHelpLink}}" class="nav-item" title="Help and Documentation" target="{{ site.isInRunningNotebook ? '_blank' : '_self'}}">Help</a>
                </div>
                <div class="account-nav">
                    <div ng-if="site.getSignedIn()">
                        <div uib-dropdown>
                            <div class="ng-cloak">
                                <a href="#" id="user-dropdown" uib-dropdown-toggle>
                                    {{site.getCurUserName() || site.getCurUserDisplayName()}}
                                    <img ng-src="{{site.userPhotoSrc}}" alt="User Profile Image" />
                                </a>
                            </div>
                            <ul class="dropdown-menu account-menu" uib-dropdown-menu aria-labelledby="user-dropdown">
                                <li class="mini-profile-card">
                                    <img ng-src="{{site.userPhotoSrc}}" alt="User Profile Image" />
                                    <div>
                                        <div class="title">
                                            {{site.getCurUserName()}}
                                        </div>
                                        <div class="subtitle">
                                            <span>{{site.getCurUserDisplayName()}}</span>
                                            <a ng-click="site.copyProfileLink()" title="Copy profile link to clipboard"><i class="ms-Icon ms-Icon--Copy"></i></a>
                                            <a ng-if="!site.UserService.user.generatedId" ng-click="site.updateUserId()" title="Configure User ID"><i class="ms-Icon ms-Icon--ConfigurationSolid"></i></a>
                                        </div>
                                    </div>
                                </li>
                                <li><a href="{{site.getUserHomeLink()}}#" title="Profile" target="_self">My Account</a></li>
                                <li ng-if="site.getSignedIn()"><a href="/account/signout" ng-click="site.signout()" title="Sign Out" target="_self">Sign out</a></li>
                            </ul>
                        </div>
                    </div>
                    <div ng-if="!site.getSignedIn()">
                        <a href="/account/signin#" ng-click="site.signin()" title="Main Menu Sign In">Sign In</a>
                    </div>
                </div>
            </div>

            <span class="mobile-navbar">
                <button type="button" class="navbar-toggle" data-toggle="collapse" data-target=".navbar-collapse" title="Main Menu">
                    <span class="icon-bar"></span>
                    <span class="icon-bar"></span>
                    <span class="icon-bar"></span>
                </button>
            </span>
        </div>

        <div class="mobile-navbar">
            <div class="navbar-collapse collapse">
                <ul class="nav navbar-nav nav-fade">
                    <li><a href="/home/projects#" class="nav-item" ng-href="{{site.getUserHomeLink()}}/projects#" title="My Projects">Projects</a></li>
                    <li><a href="/help" ng-href="{{site.contextHelpLink}}" class="nav-item" title="Help and Documentation">Help</a></li>

                    <li ng-if="site.getSignedIn()"><a href="{{site.getUserHomeLink()}}#" title="Main Menu Profile">Profile</a></li>
                    <li ng-if="site.getSignedIn()"><a href="/account/settings#" title="Main Menu Settings">Settings</a></li>
                    <li ng-if="site.getSignedIn()"><a href="/account/signout" ng-click="site.signout()" title="Main Menu Sign Out">Sign out</a></li>

                    <li ng-if="!site.getSignedIn()"><a href="/account/signin#" ng-click="site.signin()" title="Main Menu Sign In">Sign In</a></li>

                </ul>
            </div>
        </div>

        <div ng-cloak ng-if="site.getDisplaySurvey()" class="notification">
            <div class="container">
                <span class="message">Would you tell us how likely you are to recommend Azure Notebooks to a friend or colleague?</span>
                <span class="buttons">
                    <a class="btn" ng-click="site.surveyTaken()" href="https://aka.ms/azure-notebooks-survey" target="_blank">Yes</a>
                    <button type="button" class="btn" ng-click="site.surveyDontShowAgain()">Don't Show Again</button>
                </span>
                <button type="button" class="close" aria-label="Close" ng-click="site.surveyDismissed()" title="Close" ng-if="site.shouldDisplaySurveyDismiss"><span aria-hidden="true">×</span></button>
            </div>
        </div>
    </div>

    <div class="tips-container" ng-if="!site.getIsHomePage() && site.tips.length > 0">
        <div class="current-tip">
            <tip is-home-page="false" is-signed-in="site.getSignedIn()" tip="site.tips[site.currentTip]" />
        </div>

        <div class="tip-selector" ng-click="site.nextTip()" ng-show="site.tips.length > 1" title="Next item">
            <span class="btn tip-selector-button">
                <i class="ms-Icon ms-Icon--ChevronRight" aria-hidden="true"></i>
            </span>
        </div>
    </div>
</div>

    <!-- BEGIN BODY -->

    <div class="page-wrap" ng-class="{'eu-cookie-banner-visible': site.showEuCookieBanner()}">
        
<div ng-view>
</div>


    </div>

    <!-- END BODY -->

    <!-- BEGIN FOOTER -->
<footer class="footer-container">
    <div class="footer" ng-class="{'fixed-width': site.getIsHomePage()}">
        <div class="row">
            <div class="col-md-2 col-s-2 col-xs-4">
                <h1>Product</h1>
                <h2>
                    <a href="/new/#top" ms.title="What's new" class="ctl_footerNavLink" data-bi-name="Footer_WhatsNew" data-bi-slot="1" ms.ea_action="ntd">
                        What's new
                    </a>
                </h2>
                <h2>
                    <a href="/status/#top" ms.title="Status" class="ctl_footerNavLink" data-bi-name="Footer_Status" data-bi-slot="2" ms.ea_action="ntd">
                        Status
                    </a>
                </h2>
                <h2>
                    <a href="{{site.helpBaseUrl}}" ms.title="Help" class="ctl_footerNavLink" data-bi-name="Footer_Help" data-bi-slot="3" ms.ea_action="ntd">
                        Help
                    </a>
                </h2>
            </div>
            <div class="col-md-2 col-s-2 col-xs-4">
                <h1>Communication</h1>
                <h2>
                    <a href="/faq/#top" ms.title="FAQ" class="ctl_footerNavLink" data-bi-name="Footer_FaqSupport" data-bi-slot="4" ms.ea_action="ntd">
                        FAQ
                    </a>
                </h2>
                <h2>
                    <a href="https://github.com/Microsoft/AzureNotebooks/issues" target="_blank" ms.title="Contact us" class="ctl_footerNavLink" data-bi-name="Footer_ContactUs" data-bi-slot="5" ms.ea_action="ntd">
                        Contact us
                    </a>
                </h2>
                <h2>
                    <a href="https://jupyter.org" target="_blank" ms.title="Jupyter.org" class="ctl_footerNavLink" data-bi-name="Footer_JupyterOrg" data-bi-slot="6" ms.ea_action="ntd">
                        Jupyter.org
                    </a>
                </h2>
            </div>
            <div class="col-md-3 col-s-3 col-xs-4">
                <h1>Legal</h1>
                <h2>
                    <a href="https://go.microsoft.com/fwlink/?LinkId=248681" target="_blank" ms.title="Privacy and cookies " class="ctl_footerNavLink" data-bi-name="Footer_PrivacyandCookies" data-bi-slot="7" ms.ea_action="ntd">
                        Privacy and cookies
                    </a>
                </h2>
                <h2>
                    <a href="https://go.microsoft.com/fwlink/?LinkID=530144" target="_blank" ms.title="Terms of use" class="ctl_footerNavLink" data-bi-name="Footer_TermsOfUse" data-bi-slot="8" ms.ea_action="ntd">
                        Terms of use
                    </a>
                </h2>
                <h2>
                    <a href="https://www.microsoft.com/en-us/legal/intellectualproperty/trademarks/en-us.aspx" target="_blank" ms.title="Trademarks" class="ctl_footerNavLink" data-bi-name="Footer_Trademarks" data-bi-slot="9" ms.ea_action="ntd">
                        Trademarks
                    </a>
                </h2>
            </div>
        </div>
        <div class="copyright">
            &copy; 2019 Microsoft
        </div>
    </div>
</footer>

<!-- END FOOTER -->

</body>
</html>
